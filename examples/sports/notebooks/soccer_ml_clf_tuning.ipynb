{
 "cells": [
  {
   "cell_type": "markdown",
   "metadata": {},
   "source": [
    "# Tuning KNN hyper-parameters (2009-2010 EPL)"
   ]
  },
  {
   "cell_type": "markdown",
   "metadata": {},
   "source": [
    "In this example we are tuning KNN hyper-parameters in order to improve f1 score. The tuning is performed by grid-search after defining the search space of each hyper-parameter."
   ]
  },
  {
   "cell_type": "markdown",
   "metadata": {},
   "source": [
    "Load packages"
   ]
  },
  {
   "cell_type": "code",
   "execution_count": 1,
   "metadata": {},
   "outputs": [],
   "source": [
    "from apprate.app_sports.methods import (Predictions, prepare_sports_seasons,\n",
    "                                        rating_norm_features)\n",
    "from apprate.application import SoccerOutcome\n",
    "from apprate.datasets.filenames import dataset_sports_path\n",
    "from apprate.datasets.parameters import championships\n",
    "from apprate.ratings.colley import Colley\n",
    "from sklearn.neighbors import KNeighborsClassifier\n"
   ]
  },
  {
   "cell_type": "markdown",
   "metadata": {},
   "source": [
    "Set target outcome"
   ]
  },
  {
   "cell_type": "code",
   "execution_count": 2,
   "metadata": {},
   "outputs": [],
   "source": [
    "outcome = SoccerOutcome()"
   ]
  },
  {
   "cell_type": "markdown",
   "metadata": {},
   "source": [
    "Get filename path for season 2009-2010 (in English Premier League)."
   ]
  },
  {
   "cell_type": "code",
   "execution_count": 3,
   "metadata": {},
   "outputs": [],
   "source": [
    "filename = dataset_sports_path(\n",
    "    season=2009, championship=championships.PREMIERLEAGUE)"
   ]
  },
  {
   "cell_type": "markdown",
   "metadata": {},
   "source": [
    "We create a rating system instance. In this example, we have chosen Colley method."
   ]
  },
  {
   "cell_type": "code",
   "execution_count": 4,
   "metadata": {},
   "outputs": [],
   "source": [
    "colley = Colley()"
   ]
  },
  {
   "cell_type": "markdown",
   "metadata": {},
   "source": [
    "The ratings in the dataset start from the second match week."
   ]
  },
  {
   "cell_type": "code",
   "execution_count": 5,
   "metadata": {},
   "outputs": [
    {
     "name": "stdout",
     "output_type": "stream",
     "text": [
      "2.9%5.7%8.6%11.4%14.3%17.1%20.0%22.9%25.7%28.6%31.4%34.3%37.1%40.0%42.9%45.7%48.6%51.4%54.3%57.1%60.0%62.9%65.7%68.6%71.4%74.3%77.1%80.0%82.9%85.7%88.6%91.4%94.3%97.1%100.0%\n"
     ]
    }
   ],
   "source": [
    "data = prepare_sports_seasons(filename,\n",
    "                              outcome,\n",
    "                              rating_systems=colley,\n",
    "                              start_week=2)"
   ]
  },
  {
   "cell_type": "markdown",
   "metadata": {},
   "source": [
    "We test KNN classifier with 7, 9, 11, 13, 15, 17 neighbors. We start making predictions from the 4th week.\n",
    "We apply the anchored walk-farward procedure with window size = 1 which means that every week we make predictions\n",
    "by using previous weeks data for training set. For example for the 4th week, the training set consists of the 1st, 2nd and 3rd week.\n",
    "The best parameters for each method and for each version are printed in the console."
   ]
  },
  {
   "cell_type": "code",
   "execution_count": 6,
   "metadata": {},
   "outputs": [
    {
     "name": "stdout",
     "output_type": "stream",
     "text": [
      "\n",
      "\n",
      "=====Classifier: KNeighborsClassifier=====\n",
      "KNeighborsClassifier(n_neighbors=7)-[features: HratingnormColley AratingnormColley] 0.4555210471051302\n"
     ]
    }
   ],
   "source": [
    "features_names = rating_norm_features(colley)\n",
    "clf_list = [KNeighborsClassifier(n_neighbors=n) for n in range(7, 19, 2)]\n",
    "best = Predictions(data, outcome, start_from_week=4, print_accuracy_report=False).ml_tuning_params(clf_list=clf_list,\n",
    "                                                                                                   features_names=features_names,\n",
    "                                                                                                   metric_name='f1',\n",
    "                                                                                                   average='weighted')\n",
    "\n"
   ]
  }
 ],
 "metadata": {
  "kernelspec": {
   "display_name": "Python 3.8.13 ('py38')",
   "language": "python",
   "name": "python3"
  },
  "language_info": {
   "codemirror_mode": {
    "name": "ipython",
    "version": 3
   },
   "file_extension": ".py",
   "mimetype": "text/x-python",
   "name": "python",
   "nbconvert_exporter": "python",
   "pygments_lexer": "ipython3",
   "version": "3.8.13"
  },
  "vscode": {
   "interpreter": {
    "hash": "23ceb7112fbf9d0e38ecbf60d6e6d5e2dcebcc82200eeb1e5a5d5f9ffb9e27ca"
   }
  }
 },
 "nbformat": 4,
 "nbformat_minor": 2
}
