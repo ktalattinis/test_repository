{
 "cells": [
  {
   "cell_type": "markdown",
   "metadata": {},
   "source": [
    "# Prediction of soccer outcome (2009-2010 EPL)"
   ]
  },
  {
   "cell_type": "markdown",
   "metadata": {},
   "source": [
    "In this example we use the rating values from \"AccuRATE method\" as machine learning features to predict soccer outcome.\n",
    "The dataset is composed of soccer matches of the English Premier League (season 2009-2010).\n",
    "The predictions are performed through Naive Bayes classifier of scikit-learn library and we apply the walk-forward procedure."
   ]
  },
  {
   "cell_type": "markdown",
   "metadata": {},
   "source": [
    "Load packages"
   ]
  },
  {
   "cell_type": "code",
   "execution_count": 1,
   "metadata": {},
   "outputs": [],
   "source": [
    "from apprate.app_sports.methods import Predictions, prepare_sports_seasons\n",
    "from apprate.application import SoccerOutcome\n",
    "from apprate.datasets.filenames import datasets_sports_seasons_path\n",
    "from apprate.ratings.accurate import AccuRate\n",
    "from sklearn.naive_bayes import GaussianNB"
   ]
  },
  {
   "cell_type": "markdown",
   "metadata": {},
   "source": [
    "Set target outcome"
   ]
  },
  {
   "cell_type": "code",
   "execution_count": 2,
   "metadata": {},
   "outputs": [],
   "source": [
    "outcome = SoccerOutcome()"
   ]
  },
  {
   "cell_type": "markdown",
   "metadata": {},
   "source": [
    "Firstly, we get filename path for season 2009-2010 in English Premier League.\n",
    "Then, we create rating system and we add it to a dictionary and finally we prepare the dataset.\n",
    "The ratings in the dataset start from the second match week."
   ]
  },
  {
   "cell_type": "code",
   "execution_count": 3,
   "metadata": {},
   "outputs": [
    {
     "name": "stdout",
     "output_type": "stream",
     "text": [
      "Load season: 2009 - 2010\n",
      "2.9%5.7%8.6%11.4%14.3%17.1%20.0%22.9%25.7%28.6%31.4%34.3%37.1%40.0%42.9%45.7%48.6%51.4%54.3%57.1%60.0%62.9%65.7%68.6%71.4%74.3%77.1%80.0%82.9%85.7%88.6%91.4%94.3%97.1%100.0%\n"
     ]
    }
   ],
   "source": [
    "filenames_dict = datasets_sports_seasons_path(2009, championship='EPL')\n",
    "ratings_dict = {'AccuRATE': AccuRate()}\n",
    "data_ml = prepare_sports_seasons(filenames_dict,\n",
    "                                 outcome,\n",
    "                                 rating_systems=ratings_dict,\n",
    "                                 start_week=2)"
   ]
  },
  {
   "cell_type": "markdown",
   "metadata": {},
   "source": [
    "We show the columns of 2009 season dataframe"
   ]
  },
  {
   "cell_type": "code",
   "execution_count": 4,
   "metadata": {},
   "outputs": [
    {
     "data": {
      "text/plain": [
       "Index(['Div', 'Date', 'HomeTeam', 'AwayTeam', 'FTHG', 'FTAG', 'FTR', 'HTHG',\n",
       "       'HTAG', 'HTR', 'Referee', 'HS', 'AS', 'HST', 'AST', 'HF', 'AF', 'HC',\n",
       "       'AC', 'HY', 'AY', 'HR', 'AR', 'B365H', 'B365D', 'B365A', 'BWH', 'BWD',\n",
       "       'BWA', 'GBH', 'GBD', 'GBA', 'IWH', 'IWD', 'IWA', 'LBH', 'LBD', 'LBA',\n",
       "       'SBH', 'SBD', 'SBA', 'WHH', 'WHD', 'WHA', 'SJH', 'SJD', 'SJA', 'VCH',\n",
       "       'VCD', 'VCA', 'BSH', 'BSD', 'BSA', 'Bb1X2', 'BbMxH', 'BbAvH', 'BbMxD',\n",
       "       'BbAvD', 'BbMxA', 'BbAvA', 'BbOU', 'BbMx>2.5', 'BbAv>2.5', 'BbMx<2.5',\n",
       "       'BbAv<2.5', 'BbAH', 'BbAHh', 'BbMxAHH', 'BbAvAHH', 'BbMxAHA', 'BbAvAHA',\n",
       "       'Period', 'Week_Number', 'FT', 'HAccuRATE', 'AAccuRATE',\n",
       "       'HratingnormAccuRATE', 'AratingnormAccuRATE'],\n",
       "      dtype='object')"
      ]
     },
     "execution_count": 4,
     "metadata": {},
     "output_type": "execute_result"
    }
   ],
   "source": [
    "data_ml[2009].columns"
   ]
  },
  {
   "cell_type": "markdown",
   "metadata": {},
   "source": [
    "We will only use the normalized ratings from AccuRATE as features for ml classifier."
   ]
  },
  {
   "cell_type": "code",
   "execution_count": 5,
   "metadata": {},
   "outputs": [
    {
     "data": {
      "text/html": [
       "<div>\n",
       "<style scoped>\n",
       "    .dataframe tbody tr th:only-of-type {\n",
       "        vertical-align: middle;\n",
       "    }\n",
       "\n",
       "    .dataframe tbody tr th {\n",
       "        vertical-align: top;\n",
       "    }\n",
       "\n",
       "    .dataframe thead th {\n",
       "        text-align: right;\n",
       "    }\n",
       "</style>\n",
       "<table border=\"1\" class=\"dataframe\">\n",
       "  <thead>\n",
       "    <tr style=\"text-align: right;\">\n",
       "      <th></th>\n",
       "      <th>HratingnormAccuRATE</th>\n",
       "      <th>AratingnormAccuRATE</th>\n",
       "    </tr>\n",
       "  </thead>\n",
       "  <tbody>\n",
       "    <tr>\n",
       "      <th>0</th>\n",
       "      <td>0.880242</td>\n",
       "      <td>0.260006</td>\n",
       "    </tr>\n",
       "    <tr>\n",
       "      <th>1</th>\n",
       "      <td>0.528128</td>\n",
       "      <td>0.438956</td>\n",
       "    </tr>\n",
       "    <tr>\n",
       "      <th>2</th>\n",
       "      <td>0.000000</td>\n",
       "      <td>0.394067</td>\n",
       "    </tr>\n",
       "    <tr>\n",
       "      <th>3</th>\n",
       "      <td>0.734877</td>\n",
       "      <td>0.461934</td>\n",
       "    </tr>\n",
       "    <tr>\n",
       "      <th>4</th>\n",
       "      <td>0.436726</td>\n",
       "      <td>0.334633</td>\n",
       "    </tr>\n",
       "  </tbody>\n",
       "</table>\n",
       "</div>"
      ],
      "text/plain": [
       "   HratingnormAccuRATE  AratingnormAccuRATE\n",
       "0             0.880242             0.260006\n",
       "1             0.528128             0.438956\n",
       "2             0.000000             0.394067\n",
       "3             0.734877             0.461934\n",
       "4             0.436726             0.334633"
      ]
     },
     "execution_count": 5,
     "metadata": {},
     "output_type": "execute_result"
    }
   ],
   "source": [
    "features_names = ['HratingnormAccuRATE',\n",
    "                  'AratingnormAccuRATE']\n",
    "data_ml[2009][features_names].head()"
   ]
  },
  {
   "cell_type": "markdown",
   "metadata": {},
   "source": [
    "We have selected the Naive Bayes classifier and we start making predictions from the 4th week.\n",
    "We apply the anchored walk-farward procedure with window size = 1 which means that every week we make predictions\n",
    "by using previous weeks data for training set. For example for the 4th week, the training set is consisted of the 1st, 2nd and 3rd week. "
   ]
  },
  {
   "cell_type": "code",
   "execution_count": 6,
   "metadata": {},
   "outputs": [
    {
     "name": "stdout",
     "output_type": "stream",
     "text": [
      "\n",
      "\n",
      "=====GaussianNB()-[features: HratingnormAccuRATE AratingnormAccuRATE]=====\n",
      "              precision    recall  f1-score   support\n",
      "\n",
      "         1.0     0.5552    0.8914    0.6842       175\n",
      "         2.0     0.4340    0.3026    0.3566        76\n",
      "         3.0     0.0000    0.0000    0.0000        93\n",
      "\n",
      "    accuracy                         0.5203       344\n",
      "   macro avg     0.3297    0.3980    0.3469       344\n",
      "weighted avg     0.3783    0.5203    0.4269       344\n",
      "\n",
      "confusion matrix:\n",
      "[[156  14   5]\n",
      "  [ 48  23   5]\n",
      "  [ 77  16   0]]\n",
      "Correct games: 179\n",
      "Wrong games: 165\n",
      "Total predicted Games: 344\n",
      "\n",
      "\n",
      "\n",
      "=====GaussianNB()-[features: HratingnormAccuRATE AratingnormAccuRATE]=====\n",
      "\n",
      "\n",
      "=====Accuracy results=====\n",
      "\n",
      "                                                                  Accuracy  \\\n",
      "GaussianNB()-[features: HratingnormAccuRATE AratingnormAccuRATE]  0.520349   \n",
      "\n",
      "                                                                  Correct Games  \\\n",
      "GaussianNB()-[features: HratingnormAccuRATE AratingnormAccuRATE]            179   \n",
      "\n",
      "                                                                  Wrong Games  \\\n",
      "GaussianNB()-[features: HratingnormAccuRATE AratingnormAccuRATE]          165   \n",
      "\n",
      "                                                                  Total Games  \n",
      "GaussianNB()-[features: HratingnormAccuRATE AratingnormAccuRATE]          344  \n"
     ]
    }
   ],
   "source": [
    "test_y, pred = Predictions(data_ml,\n",
    "                           outcome,\n",
    "                           start_from_week=4,\n",
    "                           print_classification_report=True).ml_pred(\n",
    "                            clf=GaussianNB(),\n",
    "                            features_names=features_names)"
   ]
  }
 ],
 "metadata": {
  "kernelspec": {
   "display_name": "Python 3.8.13 ('py38')",
   "language": "python",
   "name": "python3"
  },
  "language_info": {
   "codemirror_mode": {
    "name": "ipython",
    "version": 3
   },
   "file_extension": ".py",
   "mimetype": "text/x-python",
   "name": "python",
   "nbconvert_exporter": "python",
   "pygments_lexer": "ipython3",
   "version": "3.8.13"
  },
  "vscode": {
   "interpreter": {
    "hash": "23ceb7112fbf9d0e38ecbf60d6e6d5e2dcebcc82200eeb1e5a5d5f9ffb9e27ca"
   }
  }
 },
 "nbformat": 4,
 "nbformat_minor": 2
}
